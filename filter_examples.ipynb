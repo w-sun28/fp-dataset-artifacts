{
 "cells": [
  {
   "cell_type": "code",
   "execution_count": 1,
   "metadata": {},
   "outputs": [],
   "source": [
    "import pandas as pd\n",
    "import numpy as np"
   ]
  },
  {
   "cell_type": "code",
   "execution_count": 207,
   "metadata": {},
   "outputs": [],
   "source": [
    "df = pd.read_json(\"data/snli_1.0/snli_1.0_train.jsonl\", lines=True)\n",
    "# df = pd.read_json(\"data/contrast.jsonl\", lines=True)"
   ]
  },
  {
   "cell_type": "code",
   "execution_count": 208,
   "metadata": {},
   "outputs": [],
   "source": [
    "df = df.drop(columns=['sentence1_binary_parse','sentence1_parse','sentence2_binary_parse','sentence2_parse','captionID','pairID'])\n",
    "df = df.rename(columns={'sentence1':'premise','sentence2':'hypothesis','gold_label':'label'})"
   ]
  },
  {
   "cell_type": "markdown",
   "metadata": {},
   "source": [
    "## Ambiguity"
   ]
  },
  {
   "cell_type": "code",
   "execution_count": 210,
   "metadata": {},
   "outputs": [],
   "source": [
    "df['annotator_labels_str'] = ''\n",
    "\n",
    "for index, row in df.iterrows():\n",
    "    d = [1 if x=='neutral' else (2 if x=='contradiction' else 0) for x in row['annotator_labels']]\n",
    "    d = sorted(d)\n",
    "    if(len(d) == 4):\n",
    "        s = str(d[0]) +str(d[1]) + str(d[2]) + str(d[3])\n",
    "    elif len(d)==5:\n",
    "        s = str(d[0]) +str(d[1]) + str(d[2]) + str(d[3]) + str(d[4])\n",
    "    elif len(d)==3:\n",
    "        s = str(d[0]) +str(d[1]) + str(d[2])\n",
    "    df.at[index,'annotator_labels_str'] = s\n",
    "\n",
    "    df.at[index,'label'] = 1 if row['label']=='neutral' else (2 if row['label']=='contradiction' else 0)\n",
    "\n",
    "df = df.drop(columns=['annotator_labels'])"
   ]
  },
  {
   "cell_type": "code",
   "execution_count": null,
   "metadata": {},
   "outputs": [
    {
     "data": {
      "text/plain": [
       "annotator_labels_str\n",
       "0000       7479\n",
       "00000    115460\n",
       "00001     28250\n",
       "00002     10976\n",
       "0001       2443\n",
       "00011     13279\n",
       "00012      3694\n",
       "0002       1138\n",
       "00022      1182\n",
       "0011       1200\n",
       "00111     15116\n",
       "00112      3017\n",
       "0012        575\n",
       "00122      1121\n",
       "0022        135\n",
       "00222      1332\n",
       "0111       2062\n",
       "01111     29955\n",
       "01112      6688\n",
       "0112        648\n",
       "01122      2274\n",
       "0122        252\n",
       "01222      3137\n",
       "0222        797\n",
       "02222      9138\n",
       "1111       4290\n",
       "11111     75604\n",
       "11112     26831\n",
       "1112       2798\n",
       "11122     10954\n",
       "1122       1132\n",
       "11222      9512\n",
       "1222       1663\n",
       "12222     22479\n",
       "2222       8028\n",
       "22222    125513\n",
       "Name: label, dtype: int64"
      ]
     },
     "execution_count": 132,
     "metadata": {},
     "output_type": "execute_result"
    }
   ],
   "source": [
    "df.groupby('annotator_labels_str')['label'].agg(len)"
   ]
  },
  {
   "cell_type": "code",
   "execution_count": 211,
   "metadata": {},
   "outputs": [],
   "source": [
    "ambiguous = df[(df['annotator_labels_str'].isin(['00011','00012','00022','00111','00112','00122','00222','01112','01122','01222','11122','11222',\n",
    "                                                 '0011','0012','0022','0112','0122','1122',\n",
    "                                                 '012'])) ]"
   ]
  },
  {
   "cell_type": "code",
   "execution_count": 212,
   "metadata": {},
   "outputs": [
    {
     "name": "stdout",
     "output_type": "stream",
     "text": [
      "75237\n",
      "550152\n"
     ]
    }
   ],
   "source": [
    "print(len(ambiguous))\n",
    "print(len(df))"
   ]
  },
  {
   "cell_type": "code",
   "execution_count": null,
   "metadata": {},
   "outputs": [],
   "source": [
    "ambiguous.to_json('ambiguous.jsonl',orient='records',lines=True)"
   ]
  },
  {
   "cell_type": "markdown",
   "metadata": {},
   "source": [
    "## Lexical Overlap"
   ]
  },
  {
   "cell_type": "code",
   "execution_count": null,
   "metadata": {},
   "outputs": [],
   "source": [
    "from collections import Counter\n",
    "from typing import List\n",
    "\n",
    "class Indexer(object):\n",
    "    \"\"\"\n",
    "    Bijection between objects and integers starting at 0. Useful for mapping\n",
    "    labels, features, etc. into coordinates of a vector space.\n",
    "\n",
    "    Attributes:\n",
    "        objs_to_ints\n",
    "        ints_to_objs\n",
    "    \"\"\"\n",
    "    def __init__(self):\n",
    "        self.objs_to_ints = {}\n",
    "        self.ints_to_objs = {}\n",
    "\n",
    "    def __repr__(self):\n",
    "        return str([str(self.get_object(i)) for i in range(0, len(self))])\n",
    "\n",
    "    def __str__(self):\n",
    "        return self.__repr__()\n",
    "\n",
    "    def __len__(self):\n",
    "        return len(self.objs_to_ints)\n",
    "\n",
    "    def get_object(self, index):\n",
    "        \"\"\"\n",
    "        :param index: integer index to look up\n",
    "        :return: Returns the object corresponding to the particular index or None if not found\n",
    "        \"\"\"\n",
    "        if (index not in self.ints_to_objs):\n",
    "            return None\n",
    "        else:\n",
    "            return self.ints_to_objs[index]\n",
    "\n",
    "    def contains(self, object):\n",
    "        \"\"\"\n",
    "        :param object: object to look up\n",
    "        :return: Returns True if it is in the Indexer, False otherwise\n",
    "        \"\"\"\n",
    "        return self.index_of(object) != -1\n",
    "\n",
    "    def index_of(self, object):\n",
    "        \"\"\"\n",
    "        :param object: object to look up\n",
    "        :return: Returns -1 if the object isn't present, index otherwise\n",
    "        \"\"\"\n",
    "        if (object not in self.objs_to_ints):\n",
    "            return -1\n",
    "        else:\n",
    "            return self.objs_to_ints[object]\n",
    "\n",
    "    def add_and_get_index(self, object, add=True):\n",
    "        \"\"\"\n",
    "        Adds the object to the index if it isn't present, always returns a nonnegative index\n",
    "        :param object: object to look up or add\n",
    "        :param add: True by default, False if we shouldn't add the object. If False, equivalent to index_of.\n",
    "        :return: The index of the object\n",
    "        \"\"\"\n",
    "        if not add:\n",
    "            return self.index_of(object)\n",
    "        if (object not in self.objs_to_ints):\n",
    "            new_idx = len(self.objs_to_ints)\n",
    "            self.objs_to_ints[object] = new_idx\n",
    "            self.ints_to_objs[new_idx] = object\n",
    "        return self.objs_to_ints[object]\n",
    "\n",
    "\n",
    "class UnigramFeatureExtractor():\n",
    "    \"\"\"\n",
    "    Extracts unigram bag-of-words features from a sentence. It's up to you to decide how you want to handle counts\n",
    "    and any additional preprocessing you want to do.\n",
    "    \"\"\"\n",
    "    def __init__(self, indexer: Indexer):\n",
    "        self.indexer = indexer\n",
    "    \n",
    "    def extract_features(self, sentence: List[str], add_to_indexer: bool=False) -> Counter:\n",
    "        lower_sentence = [word.lower() for word in sentence]\n",
    "        indices = []\n",
    "\n",
    "        for word in lower_sentence:\n",
    "            if add_to_indexer:\n",
    "                idx = self.indexer.add_and_get_index(word)\n",
    "            else:\n",
    "                idx = self.indexer.index_of(word)\n",
    "\n",
    "            if idx >= 0:\n",
    "                indices.append(idx)\n",
    "\n",
    "        counter = Counter(indices)     \n",
    "        return counter\n"
   ]
  },
  {
   "cell_type": "code",
   "execution_count": null,
   "metadata": {},
   "outputs": [],
   "source": [
    "import string\n",
    "\n",
    "extractor = UnigramFeatureExtractor(Indexer())\n",
    "\n",
    "def strip_punct(s):\n",
    "    s = s.replace(\"<s>\",\" \")\n",
    "    s = s.replace(\"</s>\",\" \")\n",
    "    s = s.translate(str.maketrans('', '', string.punctuation))\n",
    "    return s.split(\" \")\n",
    "\n",
    "def passes_threshold(hypothesis, premise):\n",
    "    count = 0\n",
    "    for key in set(hypothesis.elements()):\n",
    "        if premise[key] > 0:\n",
    "            count += 1\n",
    "    return count/len(hypothesis)\n",
    "\n",
    "def precision(premise: str, hypothesis: str) -> bool:\n",
    "    premise_counter = extractor.extract_features(strip_punct(premise),True)\n",
    "    hypothesis_counter = extractor.extract_features(strip_punct(hypothesis), True)\n",
    "\n",
    "    return passes_threshold(hypothesis_counter,premise_counter)"
   ]
  },
  {
   "cell_type": "code",
   "execution_count": 213,
   "metadata": {},
   "outputs": [],
   "source": [
    "df['lexical_overlap'] = 0\n",
    "for index, row in df.iterrows():\n",
    "    df.at[index,'lexical_overlap'] = precision(row['premise'],row['hypothesis'])\n"
   ]
  },
  {
   "cell_type": "code",
   "execution_count": 214,
   "metadata": {},
   "outputs": [
    {
     "data": {
      "text/plain": [
       "count    550152.000000\n",
       "mean          0.456587\n",
       "std           0.242531\n",
       "min           0.000000\n",
       "25%           0.285714\n",
       "50%           0.428571\n",
       "75%           0.625000\n",
       "max           1.000000\n",
       "Name: lexical_overlap, dtype: float64"
      ]
     },
     "execution_count": 214,
     "metadata": {},
     "output_type": "execute_result"
    }
   ],
   "source": [
    "df['lexical_overlap'].describe()"
   ]
  },
  {
   "cell_type": "code",
   "execution_count": null,
   "metadata": {},
   "outputs": [],
   "source": [
    "overlap = df[(df['lexical_overlap'] > .285) & (df['lexical_overlap'] < .428)]"
   ]
  },
  {
   "cell_type": "code",
   "execution_count": null,
   "metadata": {},
   "outputs": [
    {
     "data": {
      "text/plain": [
       "label\n",
       "0    0.195953\n",
       "1    0.371479\n",
       "2    0.432568\n",
       "Name: premise, dtype: float64"
      ]
     },
     "execution_count": 186,
     "metadata": {},
     "output_type": "execute_result"
    }
   ],
   "source": [
    "df[df['lexical_overlap'] <= .385].groupby('label')['premise'].agg(len) / len(df[df['lexical_overlap'] <= .385])"
   ]
  },
  {
   "cell_type": "code",
   "execution_count": null,
   "metadata": {},
   "outputs": [
    {
     "data": {
      "text/plain": [
       "label\n",
       "0    0.518863\n",
       "1    0.267636\n",
       "2    0.213501\n",
       "Name: premise, dtype: float64"
      ]
     },
     "execution_count": 185,
     "metadata": {},
     "output_type": "execute_result"
    }
   ],
   "source": [
    "df[df['lexical_overlap'] >= .525].groupby('label')['premise'].agg(len) / len(df[df['lexical_overlap'] >= .525])"
   ]
  },
  {
   "cell_type": "code",
   "execution_count": 202,
   "metadata": {},
   "outputs": [
    {
     "data": {
      "text/plain": [
       "label\n",
       "0    0.222222\n",
       "1    0.388889\n",
       "2    0.388889\n",
       "Name: premise, dtype: float64"
      ]
     },
     "execution_count": 202,
     "metadata": {},
     "output_type": "execute_result"
    }
   ],
   "source": [
    "df[(df['lexical_overlap'] > .385) & (df['lexical_overlap'] < .525)].groupby('label')['premise'].agg(len) / len(df[(df['lexical_overlap'] > .385) & (df['lexical_overlap'] < .525)])"
   ]
  },
  {
   "cell_type": "code",
   "execution_count": 181,
   "metadata": {},
   "outputs": [
    {
     "data": {
      "text/plain": [
       "0.21472611205630443"
      ]
     },
     "execution_count": 181,
     "metadata": {},
     "output_type": "execute_result"
    }
   ],
   "source": [
    "len(overlap)/len(df)"
   ]
  },
  {
   "cell_type": "code",
   "execution_count": 182,
   "metadata": {},
   "outputs": [],
   "source": [
    "overlap.to_json('overlap.jsonl',orient='records',lines=True)"
   ]
  },
  {
   "cell_type": "code",
   "execution_count": 204,
   "metadata": {},
   "outputs": [
    {
     "data": {
      "text/html": [
       "<div>\n",
       "<style scoped>\n",
       "    .dataframe tbody tr th:only-of-type {\n",
       "        vertical-align: middle;\n",
       "    }\n",
       "\n",
       "    .dataframe tbody tr th {\n",
       "        vertical-align: top;\n",
       "    }\n",
       "\n",
       "    .dataframe thead th {\n",
       "        text-align: right;\n",
       "    }\n",
       "</style>\n",
       "<table border=\"1\" class=\"dataframe\">\n",
       "  <thead>\n",
       "    <tr style=\"text-align: right;\">\n",
       "      <th></th>\n",
       "      <th>premise</th>\n",
       "      <th>hypothesis</th>\n",
       "      <th>label</th>\n",
       "      <th>lexical_overlap</th>\n",
       "    </tr>\n",
       "  </thead>\n",
       "  <tbody>\n",
       "    <tr>\n",
       "      <th>1</th>\n",
       "      <td>Two women are embracing while holding to go pa...</td>\n",
       "      <td>The sisters are hugging each other while holdi...</td>\n",
       "      <td>0</td>\n",
       "      <td>0.375000</td>\n",
       "    </tr>\n",
       "    <tr>\n",
       "      <th>12</th>\n",
       "      <td>Two young children in blue jerseys, one with t...</td>\n",
       "      <td>Two kids in jackets walk to school.</td>\n",
       "      <td>2</td>\n",
       "      <td>0.285714</td>\n",
       "    </tr>\n",
       "    <tr>\n",
       "      <th>15</th>\n",
       "      <td>A man in a blue shirt standing in front of a g...</td>\n",
       "      <td>A man is repainting a garage</td>\n",
       "      <td>1</td>\n",
       "      <td>0.400000</td>\n",
       "    </tr>\n",
       "    <tr>\n",
       "      <th>16</th>\n",
       "      <td>A man in a blue shirt standing in front of a g...</td>\n",
       "      <td>A man is painting a picture</td>\n",
       "      <td>2</td>\n",
       "      <td>0.400000</td>\n",
       "    </tr>\n",
       "    <tr>\n",
       "      <th>33</th>\n",
       "      <td>At an outdoor event in an Asian-themed area, a...</td>\n",
       "      <td>A single man is to the side of a camera</td>\n",
       "      <td>2</td>\n",
       "      <td>0.333333</td>\n",
       "    </tr>\n",
       "  </tbody>\n",
       "</table>\n",
       "</div>"
      ],
      "text/plain": [
       "                                              premise  \\\n",
       "1   Two women are embracing while holding to go pa...   \n",
       "12  Two young children in blue jerseys, one with t...   \n",
       "15  A man in a blue shirt standing in front of a g...   \n",
       "16  A man in a blue shirt standing in front of a g...   \n",
       "33  At an outdoor event in an Asian-themed area, a...   \n",
       "\n",
       "                                           hypothesis  label  lexical_overlap  \n",
       "1   The sisters are hugging each other while holdi...      0         0.375000  \n",
       "12                Two kids in jackets walk to school.      2         0.285714  \n",
       "15                       A man is repainting a garage      1         0.400000  \n",
       "16                        A man is painting a picture      2         0.400000  \n",
       "33            A single man is to the side of a camera      2         0.333333  "
      ]
     },
     "execution_count": 204,
     "metadata": {},
     "output_type": "execute_result"
    }
   ],
   "source": [
    "overlap.head()"
   ]
  },
  {
   "cell_type": "markdown",
   "metadata": {},
   "source": [
    "## Combined"
   ]
  },
  {
   "cell_type": "code",
   "execution_count": 205,
   "metadata": {},
   "outputs": [
    {
     "data": {
      "text/html": [
       "<div>\n",
       "<style scoped>\n",
       "    .dataframe tbody tr th:only-of-type {\n",
       "        vertical-align: middle;\n",
       "    }\n",
       "\n",
       "    .dataframe tbody tr th {\n",
       "        vertical-align: top;\n",
       "    }\n",
       "\n",
       "    .dataframe thead th {\n",
       "        text-align: right;\n",
       "    }\n",
       "</style>\n",
       "<table border=\"1\" class=\"dataframe\">\n",
       "  <thead>\n",
       "    <tr style=\"text-align: right;\">\n",
       "      <th></th>\n",
       "      <th>premise</th>\n",
       "      <th>hypothesis</th>\n",
       "      <th>label</th>\n",
       "      <th>lexical_overlap</th>\n",
       "    </tr>\n",
       "  </thead>\n",
       "  <tbody>\n",
       "    <tr>\n",
       "      <th>33</th>\n",
       "      <td>At an outdoor event in an Asian-themed area, a...</td>\n",
       "      <td>A single man is to the side of a camera</td>\n",
       "      <td>2</td>\n",
       "      <td>0.333333</td>\n",
       "    </tr>\n",
       "    <tr>\n",
       "      <th>45</th>\n",
       "      <td>A white dog with long hair jumps to catch a re...</td>\n",
       "      <td>An animal is jumping to catch an object.</td>\n",
       "      <td>0</td>\n",
       "      <td>0.285714</td>\n",
       "    </tr>\n",
       "    <tr>\n",
       "      <th>52</th>\n",
       "      <td>An Indian woman is washing and cleaning dirty ...</td>\n",
       "      <td>An Indian woman is doing her job at a lake.</td>\n",
       "      <td>1</td>\n",
       "      <td>0.700000</td>\n",
       "    </tr>\n",
       "  </tbody>\n",
       "</table>\n",
       "</div>"
      ],
      "text/plain": [
       "                                              premise  \\\n",
       "33  At an outdoor event in an Asian-themed area, a...   \n",
       "45  A white dog with long hair jumps to catch a re...   \n",
       "52  An Indian woman is washing and cleaning dirty ...   \n",
       "\n",
       "                                     hypothesis  label  lexical_overlap  \n",
       "33      A single man is to the side of a camera      2         0.333333  \n",
       "45     An animal is jumping to catch an object.      0         0.285714  \n",
       "52  An Indian woman is doing her job at a lake.      1         0.700000  "
      ]
     },
     "execution_count": 205,
     "metadata": {},
     "output_type": "execute_result"
    }
   ],
   "source": [
    "df.iloc[[33,45,52]]"
   ]
  },
  {
   "cell_type": "code",
   "execution_count": 190,
   "metadata": {},
   "outputs": [],
   "source": [
    "combined = df[(df['lexical_overlap'] > .285) & (df['lexical_overlap'] < .428) & \n",
    "              ((df['annotator_labels_str'].isin(['00011','00012','00022','00111','00112','00122','00222','01112','01122','01222','11122','11222',\n",
    "                                                 '0011','0012','0022','0112','0122','1122',\n",
    "                                                 '012'])))]"
   ]
  },
  {
   "cell_type": "code",
   "execution_count": 191,
   "metadata": {},
   "outputs": [
    {
     "data": {
      "text/plain": [
       "0.02940278323081621"
      ]
     },
     "execution_count": 191,
     "metadata": {},
     "output_type": "execute_result"
    }
   ],
   "source": [
    "len(combined)/len(df)"
   ]
  },
  {
   "cell_type": "code",
   "execution_count": 192,
   "metadata": {},
   "outputs": [
    {
     "data": {
      "text/html": [
       "<div>\n",
       "<style scoped>\n",
       "    .dataframe tbody tr th:only-of-type {\n",
       "        vertical-align: middle;\n",
       "    }\n",
       "\n",
       "    .dataframe tbody tr th {\n",
       "        vertical-align: top;\n",
       "    }\n",
       "\n",
       "    .dataframe thead th {\n",
       "        text-align: right;\n",
       "    }\n",
       "</style>\n",
       "<table border=\"1\" class=\"dataframe\">\n",
       "  <thead>\n",
       "    <tr style=\"text-align: right;\">\n",
       "      <th></th>\n",
       "      <th>label</th>\n",
       "      <th>premise</th>\n",
       "      <th>hypothesis</th>\n",
       "      <th>annotator_labels_str</th>\n",
       "      <th>lexical_overlap</th>\n",
       "    </tr>\n",
       "  </thead>\n",
       "  <tbody>\n",
       "    <tr>\n",
       "      <th>0</th>\n",
       "      <td>1</td>\n",
       "      <td>A person on a horse jumps over a broken down a...</td>\n",
       "      <td>A person is training his horse for a competition.</td>\n",
       "      <td>01112</td>\n",
       "      <td>0.375000</td>\n",
       "    </tr>\n",
       "    <tr>\n",
       "      <th>3</th>\n",
       "      <td>1</td>\n",
       "      <td>Children smiling and waving at camera</td>\n",
       "      <td>They are smiling at their parents</td>\n",
       "      <td>01112</td>\n",
       "      <td>0.333333</td>\n",
       "    </tr>\n",
       "    <tr>\n",
       "      <th>6</th>\n",
       "      <td>2</td>\n",
       "      <td>A boy is jumping on skateboard in the middle o...</td>\n",
       "      <td>The boy skates down the sidewalk.</td>\n",
       "      <td>01112</td>\n",
       "      <td>0.400000</td>\n",
       "    </tr>\n",
       "    <tr>\n",
       "      <th>9</th>\n",
       "      <td>1</td>\n",
       "      <td>An older man sits with his orange juice at a s...</td>\n",
       "      <td>An older man drinks his juice as he waits for ...</td>\n",
       "      <td>01112</td>\n",
       "      <td>0.333333</td>\n",
       "    </tr>\n",
       "    <tr>\n",
       "      <th>14</th>\n",
       "      <td>0</td>\n",
       "      <td>Two blond women are hugging one another.</td>\n",
       "      <td>There are women showing affection.</td>\n",
       "      <td>00111</td>\n",
       "      <td>0.400000</td>\n",
       "    </tr>\n",
       "  </tbody>\n",
       "</table>\n",
       "</div>"
      ],
      "text/plain": [
       "   label                                            premise  \\\n",
       "0      1  A person on a horse jumps over a broken down a...   \n",
       "3      1              Children smiling and waving at camera   \n",
       "6      2  A boy is jumping on skateboard in the middle o...   \n",
       "9      1  An older man sits with his orange juice at a s...   \n",
       "14     0           Two blond women are hugging one another.   \n",
       "\n",
       "                                           hypothesis annotator_labels_str  \\\n",
       "0   A person is training his horse for a competition.                01112   \n",
       "3                   They are smiling at their parents                01112   \n",
       "6                   The boy skates down the sidewalk.                01112   \n",
       "9   An older man drinks his juice as he waits for ...                01112   \n",
       "14                 There are women showing affection.                00111   \n",
       "\n",
       "    lexical_overlap  \n",
       "0          0.375000  \n",
       "3          0.333333  \n",
       "6          0.400000  \n",
       "9          0.333333  \n",
       "14         0.400000  "
      ]
     },
     "execution_count": 192,
     "metadata": {},
     "output_type": "execute_result"
    }
   ],
   "source": [
    "combined.head()"
   ]
  },
  {
   "cell_type": "code",
   "execution_count": 193,
   "metadata": {},
   "outputs": [],
   "source": [
    "combined.to_json('combined.jsonl',orient='records',lines=True)"
   ]
  },
  {
   "cell_type": "code",
   "execution_count": null,
   "metadata": {},
   "outputs": [],
   "source": []
  }
 ],
 "metadata": {
  "kernelspec": {
   "display_name": "Python 3",
   "language": "python",
   "name": "python3"
  },
  "language_info": {
   "codemirror_mode": {
    "name": "ipython",
    "version": 3
   },
   "file_extension": ".py",
   "mimetype": "text/x-python",
   "name": "python",
   "nbconvert_exporter": "python",
   "pygments_lexer": "ipython3",
   "version": "3.10.2"
  }
 },
 "nbformat": 4,
 "nbformat_minor": 2
}
